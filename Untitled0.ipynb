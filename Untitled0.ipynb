{
  "nbformat": 4,
  "nbformat_minor": 0,
  "metadata": {
    "colab": {
      "provenance": [],
      "authorship_tag": "ABX9TyMXYtMrKVIioZVSGVhuPKDD",
      "include_colab_link": true
    },
    "kernelspec": {
      "name": "python3",
      "display_name": "Python 3"
    },
    "language_info": {
      "name": "python"
    }
  },
  "cells": [
    {
      "cell_type": "markdown",
      "metadata": {
        "id": "view-in-github",
        "colab_type": "text"
      },
      "source": [
        "<a href=\"https://colab.research.google.com/github/CasallasMariana/Biblioteca/blob/main/Untitled0.ipynb\" target=\"_parent\"><img src=\"https://colab.research.google.com/assets/colab-badge.svg\" alt=\"Open In Colab\"/></a>"
      ]
    },
    {
      "cell_type": "code",
      "execution_count": null,
      "metadata": {
        "colab": {
          "base_uri": "https://localhost:8080/"
        },
        "id": "lPXkmayjlhlW",
        "outputId": "754d3966-6845-4d0f-d07d-e73ff62aa596"
      },
      "outputs": [
        {
          "output_type": "stream",
          "name": "stdout",
          "text": [
            "Primeras 5 filas del archivo:\n",
            "        Fecha    Producto  Cantidad  Precio Unitario  Total\n",
            "0  2025-06-01  Producto B         1            10000  10000\n",
            "1  2025-06-01  Producto B         1            15000  15000\n",
            "2  2025-06-01  Producto C         4            10000  40000\n",
            "3  2025-06-02  Producto A         5            15000  75000\n",
            "4  2025-06-02  Producto B         4            10000  40000\n",
            "\n",
            "Tipos de datos por columna:\n",
            "Fecha              object\n",
            "Producto           object\n",
            "Cantidad            int64\n",
            "Precio Unitario     int64\n",
            "Total               int64\n",
            "dtype: object\n",
            "\n",
            "Ventas totales por producto:\n",
            "Producto\n",
            "Producto A    275000\n",
            "Producto B    385000\n",
            "Producto C    430000\n",
            "Name: Total, dtype: int64\n",
            "\n",
            "Promedio diario de ventas:\n",
            "Fecha\n",
            "2025-06-01    21666.666667\n",
            "2025-06-02    39000.000000\n",
            "2025-06-03    43750.000000\n",
            "2025-06-04    63333.333333\n",
            "2025-06-05    60000.000000\n",
            "2025-06-06    36250.000000\n",
            "2025-06-07    50000.000000\n",
            "Name: Total, dtype: float64\n",
            "\n",
            "Cantidad total vendida por producto:\n",
            "Producto\n",
            "Producto A    16\n",
            "Producto B    31\n",
            "Producto C    27\n",
            "Name: Cantidad, dtype: int64\n",
            "\n",
            "Producto más vendido: Producto B con 31 unidades\n",
            "\n",
            "Top 3 días con mayores ingresos:\n",
            "Fecha\n",
            "2025-06-07    200000\n",
            "2025-06-02    195000\n",
            "2025-06-04    190000\n",
            "Name: Total, dtype: int64\n"
          ]
        }
      ],
      "source": [
        "import pandas as pd\n",
        "\n",
        "# 1. Cargar el archivo Excel\n",
        "df = pd.read_excel('ventas_semanales.xlsx')  # Asegúrate de que el archivo esté en el mismo directorio\n",
        "print(\"Primeras 5 filas del archivo:\")\n",
        "print(df.head())  # Muestra las primeras 5 filas\n",
        "\n",
        "# 2. Validar tipos de datos\n",
        "print(\"\\nTipos de datos por columna:\")\n",
        "print(df.dtypes)\n",
        "\n",
        "# Convertir columna Fecha a tipo datetime si no lo es\n",
        "if not pd.api.types.is_datetime64_any_dtype(df['Fecha']):\n",
        "    df['Fecha'] = pd.to_datetime(df['Fecha'])\n",
        "\n",
        "# 3. Ventas totales por producto\n",
        "ventas_por_producto = df.groupby('Producto')['Total'].sum()\n",
        "print(\"\\nVentas totales por producto:\")\n",
        "print(ventas_por_producto)\n",
        "\n",
        "# 4. Promedio diario de ventas\n",
        "promedio_diario = df.groupby('Fecha')['Total'].mean()\n",
        "print(\"\\nPromedio diario de ventas:\")\n",
        "print(promedio_diario)\n",
        "\n",
        "# 5. Producto más vendido (por cantidad)\n",
        "cantidad_vendida = df.groupby('Producto')['Cantidad'].sum()\n",
        "producto_mas_vendido = cantidad_vendida.idxmax()\n",
        "print(\"\\nCantidad total vendida por producto:\")\n",
        "print(cantidad_vendida)\n",
        "print(f\"\\nProducto más vendido: {producto_mas_vendido} con {cantidad_vendida.max()} unidades\")\n",
        "\n",
        "# 6. Días con mayor ingreso\n",
        "ventas_diarias = df.groupby('Fecha')['Total'].sum().sort_values(ascending=False)\n",
        "print(\"\\nTop 3 días con mayores ingresos:\")\n",
        "print(ventas_diarias.head(3))\n"
      ]
    }
  ]
}